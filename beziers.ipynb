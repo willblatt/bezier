{
 "cells": [
  {
   "cell_type": "markdown",
   "metadata": {},
   "source": [
    "# Code"
   ]
  },
  {
   "cell_type": "code",
   "execution_count": 98,
   "metadata": {
    "collapsed": true
   },
   "outputs": [],
   "source": [
    "%matplotlib inline"
   ]
  },
  {
   "cell_type": "code",
   "execution_count": 99,
   "metadata": {
    "collapsed": true
   },
   "outputs": [],
   "source": [
    "import os\n",
    "import numpy as np\n",
    "import scipy\n",
    "import scipy.special\n",
    "import scipy.optimize\n",
    "import matplotlib\n",
    "import matplotlib.pyplot as plt\n",
    "\n",
    "\n",
    "class CtrlPoint(list):\n",
    "    def __init__(self, *coords, **kwds):\n",
    "        # Force coordinates to be floats (catch bad data values)\n",
    "        super().__init__([float(coord) for coord in coords])\n",
    "        self.w = float(kwds.setdefault('w', 1.0))\n",
    "\n",
    "\n",
    "class Bezier(object):\n",
    "\n",
    "    def __init__(self, ctrl_points=None):\n",
    "        if not all(len(p)==len(ctrl_points[0]) for p in ctrl_points):\n",
    "            raise ValueError('All control points must be the same dimension')\n",
    "\n",
    "        self.dim = len(ctrl_points[0])\n",
    "        self.ctrl_points = [CtrlPoint(*p) for p in ctrl_points]\n",
    "\n",
    "        if len(self.ctrl_points) < 1:\n",
    "            raise ValueError('There must be at least two control points')\n",
    "\n",
    "    @property\n",
    "    def deg(self):\n",
    "        return len(self.ctrl_points) - 1\n",
    "\n",
    "    @property\n",
    "    def hodograph(self):\n",
    "        \"\"\"Calculates hodograph Bezier curve\n",
    "\n",
    "\n",
    "        References\n",
    "        ----------\n",
    "        .. [1] Thomas W. Sederberg, \"COMPUTER AIDED GEOMETRIC DESIGN\"\n",
    "           BYU, p. 31, 2014.\n",
    "\n",
    "        \"\"\"\n",
    "\n",
    "        ctrl_points = []\n",
    "\n",
    "        for i in range(self.deg):\n",
    "            for j in range(self.dim):\n",
    "                v = self.deg * (self.ctrl_points[i+1][j]-self.ctrl_points[i][j])\n",
    "                ctrl_points.append(v)\n",
    "\n",
    "        return Bezier(ctrl_points)\n",
    "\n",
    "    def point(self, t):\n",
    "        \"\"\"Evaluate Bezier curve at a given t value\"\"\"\n",
    "\n",
    "        p = np.zeros_like(self.ctrl_points[0])\n",
    "        d = 0.0\n",
    "        for i, cp in enumerate(self.ctrl_points):\n",
    "            b = scipy.special.binom(self.deg, i) * (1-t)**(self.deg-i) * t**(i)\n",
    "            p += cp.w*b*np.array(cp)\n",
    "            d += cp.w*b\n",
    "        p /= d\n",
    "\n",
    "        return p.tolist()\n",
    "\n",
    "    def deg_elevate(self,deg_incr):\n",
    "        \"\"\"Evaluate a degree elvated Bezier curve\n",
    "\n",
    "        Parameters\n",
    "        ----------\n",
    "        deg_incr : int > 0\n",
    "            Number of degrees to elevate\n",
    "\n",
    "        Notes\n",
    "        -----\n",
    "        .. math:: P$^*_i$ = \\alpha P_{i-1} + (1 - \\alpha) P_i\n",
    "\n",
    "        where α is defined as:\n",
    "\n",
    "        .. math:: \\alpha_i = \\frac{i}{n+1}\n",
    "\n",
    "        References\n",
    "        ----------\n",
    "        .. [1] Thomas W. Sederberg, \"COMPUTER AIDED GEOMETRIC DESIGN\"\n",
    "           BYU, p. 23, 2014.\n",
    "\n",
    "        \"\"\"\n",
    "\n",
    "        cp = self.ctrl_points\n",
    "        for i in range(int(deg_incr)):\n",
    "            p0 = np.insert(np.array(cp), 0, [cp[0]], axis=0)\n",
    "            p1 = np.append(np.array(cp), [cp[0]], axis=0)\n",
    "            a = np.arange(len(cp)+1) / (self.deg + i+1)\n",
    "            cp = (p0*a[:,None] + p1*(1-a)[:,None]).tolist()\n",
    "\n",
    "        return Bezier(cp)\n",
    "\n",
    "    def nearest_point(self, point, t_guess=0.5, tol=0.000001):\n",
    "        \"\"\"Estimate nearest pont on bezier using fmin func\n",
    "\n",
    "        Parameters\n",
    "        ----------\n",
    "        point : list\n",
    "            point coordinates to evaluate\n",
    "        t_guess : float, optional\n",
    "            inital t guess\n",
    "        tol : float, optional\n",
    "            stopping tolerance\n",
    "        \"\"\"\n",
    "\n",
    "        def error_fn(t_trial, p):\n",
    "            return scipy.linalg.norm(p - self.point(t_trial[0]))\n",
    "\n",
    "        npoint = np.array(point)\n",
    "        t = scipy.optimize.minimize(error_fn,\n",
    "                                t_guess,\n",
    "                                args=(npoint,),\n",
    "                                tol=tol)\n",
    "        return t['x'][0]\n",
    "\n",
    "    def error(self, points):\n",
    "        errors = []\n",
    "        for i, p in enumerate(points):\n",
    "            t = float(i) / float(len(points))\n",
    "            error = scipy.linalg.norm(p-self.nearest_point(p, t_guess=t))\n",
    "            errors.append(error)\n",
    "        return errors\n",
    "\n",
    "    def de_casteljau(self, t):\n",
    "        \"\"\"Performs the de Casteljau algorithm to split the current Bezier\n",
    "        at a given t value.\n",
    "\n",
    "        Notes\n",
    "        -----\n",
    "        Use the De Casteljau's method to split the Bezier at a given t value\n",
    "        and then, using the end points, calculate:\n",
    "\n",
    "        .. math:: \\kappa = \\frac{n-1}{n}\\frac{h}{a^2}\n",
    "\n",
    "        where a is the length of the first leg of the control polygon,\n",
    "        and h is the projected distance of the 3rd point to the first leg\n",
    "\n",
    "        References\n",
    "        ----------\n",
    "        .. [1] Thomas W. Sederberg, \"COMPUTER AIDED GEOMETRIC DESIGN\"\n",
    "           BYU, p. 31, 2014.\n",
    "\n",
    "        \"\"\"\n",
    "\n",
    "        # Create containers for output beziers\n",
    "        l_ctrl_points, r_ctrl_points = [], []\n",
    "\n",
    "        # Use the original control points as starting points\n",
    "        for i in range(self.deg+1):\n",
    "            l_ctrl_points.append(np.array(self.ctrl_points[i]))\n",
    "            r_ctrl_points.append(np.array(self.ctrl_points[i]))\n",
    "\n",
    "        l_ctrl_points.reverse()\n",
    "\n",
    "        # Walk through and perform de Casteljau's algorithm\n",
    "        for i in range(self.deg):\n",
    "            for j in range(self.deg-i):\n",
    "                r_ctrl_points[j] = t*r_ctrl_points[j+1] + (1-t)*r_ctrl_points[j]\n",
    "                l_ctrl_points[j] = t*l_ctrl_points[j]   + (1-t)*l_ctrl_points[j+1]\n",
    "\n",
    "        l_ctrl_points.reverse()\n",
    "\n",
    "        return Bezier(l_ctrl_points), Bezier(r_ctrl_points)\n",
    "\n",
    "    def curvature(self, t):\n",
    "        \"\"\"Calculates Curvature at value t\n",
    "\n",
    "        Notes\n",
    "        -----\n",
    "        Use the De Casteljau's method to split the Bezier at a given t value\n",
    "        and then, using the end points, calculate:\n",
    "\n",
    "        .. math:: \\kappa = \\frac{n-1}{n}\\frac{h}{a^2}\n",
    "\n",
    "        where a is the length of the first leg of the control polygon,\n",
    "        and h is the projected distance of the 3rd point to the first leg\n",
    "\n",
    "        References\n",
    "        ----------\n",
    "        .. [1] Thomas W. Sederberg, \"COMPUTER AIDED GEOMETRIC DESIGN\"\n",
    "           BYU, p. 31, 2014.\n",
    "\n",
    "        \"\"\"\n",
    "\n",
    "        def h(t, left, right):\n",
    "            # Use right bezier, unless t=1.0\n",
    "            if t < 1.0:\n",
    "                p0 = np.array(right.ctrl_points[0])\n",
    "                p1 = np.array(right.ctrl_points[1])\n",
    "                p2 = np.array(right.ctrl_points[2])\n",
    "            else:\n",
    "                p0 = np.array(left.ctrl_points[-1])\n",
    "                p1 = np.array(left.ctrl_points[-2])\n",
    "                p2 = np.array(left.ctrl_points[-3])\n",
    "\n",
    "            q = p0-p1\n",
    "            r = p1-p2\n",
    "\n",
    "            h = scipy.linalg.norm(np.cross(q, r)) / scipy.linalg.norm(q)\n",
    "            return h\n",
    "\n",
    "        def a(t, left, right):\n",
    "            if t < 1.0:\n",
    "                p0 = right.ctrl_points[0]\n",
    "                p1 = right.ctrl_points[1]\n",
    "            else:\n",
    "                p0 = left.ctrl_points[-1]\n",
    "                p1 = left.ctrl_points[-2]\n",
    "\n",
    "            a = scipy.linalg.norm(np.array(p0) - np.array(p1))\n",
    "            return a\n",
    "\n",
    "        left, right = self.de_casteljau(t)\n",
    "\n",
    "        aa = a(t, left, right)\n",
    "        hh = h(t, left, right)\n",
    "        n = float(self.deg)\n",
    "\n",
    "        k = ((n-1.0)/n) * hh/(aa**2.0)\n",
    "        return k"
   ]
  },
  {
   "cell_type": "markdown",
   "metadata": {},
   "source": [
    "# Test Bezier"
   ]
  },
  {
   "cell_type": "code",
   "execution_count": 100,
   "metadata": {
    "collapsed": true
   },
   "outputs": [],
   "source": [
    "b = Bezier([(-1,1), (3,3), (4,-1), (2,-1)])\n",
    "t_vals = scipy.linspace(0.0, 1, 100)"
   ]
  },
  {
   "cell_type": "markdown",
   "metadata": {},
   "source": [
    "# Degree Elevation"
   ]
  },
  {
   "cell_type": "code",
   "execution_count": 110,
   "metadata": {
    "collapsed": false
   },
   "outputs": [
    {
     "data": {
      "image/png": "[encoded data removed]",
      "text/plain": [
       "<matplotlib.figure.Figure at 0x2f2b4dbe0>"
      ]
     },
     "metadata": {},
     "output_type": "display_data"
    }
   ],
   "source": [
    "b1 = b.deg_elevate(1)\n",
    "b2 = b.deg_elevate(2)\n",
    "\n",
    "plt.plot([b.point(t)[0] for t in t_vals],\n",
    "         [b.point(t)[1] for t in t_vals], 'b-')\n",
    "plt.plot([c[0] for c in b.ctrl_points],\n",
    "         [c[1] for c in b.ctrl_points], 'b--o')\n",
    "\n",
    "plt.plot([b1.point(t)[0] for t in t_vals],\n",
    "         [b1.point(t)[1] for t in t_vals], 'g-')\n",
    "plt.plot([c[0] for c in b1.ctrl_points],\n",
    "         [c[1] for c in b1.ctrl_points], 'g--o')\n",
    "\n",
    "plt.plot([b2.point(t)[0] for t in t_vals],\n",
    "         [b2.point(t)[1] for t in t_vals], 'r-')\n",
    "plt.plot([c[0] for c in b2.ctrl_points],\n",
    "         [c[1] for c in b2.ctrl_points], 'r--o')\n",
    "plt.show()"
   ]
  },
  {
   "cell_type": "markdown",
   "metadata": {},
   "source": [
    "# Nearest Point"
   ]
  },
  {
   "cell_type": "code",
   "execution_count": 106,
   "metadata": {
    "collapsed": false
   },
   "outputs": [
    {
     "data": {
      "image/png": "[encoded data removed]",
      "text/plain": [
       "<matplotlib.figure.Figure at 0x2f2bc49b0>"
      ]
     },
     "metadata": {},
     "output_type": "display_data"
    }
   ],
   "source": [
    "p = (4, 2.5)\n",
    "tn = b.nearest_point(p)\n",
    "\n",
    "plt.plot([b.point(t)[0] for t in t_vals],\n",
    "         [b.point(t)[1] for t in t_vals], 'b-')\n",
    "plt.plot([c[0] for c in b.ctrl_points],\n",
    "         [c[1] for c in b.ctrl_points], 'b--.')\n",
    "plt.plot([b.point(tn)[0], p[0]],\n",
    "         [b.point(tn)[1], p[1]], 'r--o')\n",
    "plt.axes().set_aspect('equal', 'datalim')\n",
    "plt.show()"
   ]
  },
  {
   "cell_type": "markdown",
   "metadata": {},
   "source": [
    "# de Casteljau"
   ]
  },
  {
   "cell_type": "code",
   "execution_count": 103,
   "metadata": {
    "collapsed": false,
    "scrolled": false
   },
   "outputs": [
    {
     "data": {
      "image/png": "[encoded data removed]",
      "text/plain": [
       "<matplotlib.figure.Figure at 0x2faafb828>"
      ]
     },
     "metadata": {},
     "output_type": "display_data"
    },
    {
     "data": {
      "image/png": "[encoded data removed]",
      "text/plain": [
       "<matplotlib.figure.Figure at 0x2f2c14e80>"
      ]
     },
     "metadata": {},
     "output_type": "display_data"
    }
   ],
   "source": [
    "t_vals = scipy.linspace(0.0, 1, 100)\n",
    "\n",
    "plt.plot([b.point(t)[0] for t in t_vals], [b.point(t)[1] for t in t_vals], 'b-')\n",
    "plt.plot([p[0] for p in b.ctrl_points], [p[1] for p in b.ctrl_points], 'b--o')\n",
    "plt.show()\n",
    "\n",
    "l, r = b.de_casteljau(t=0.5)\n",
    "plt.plot([l.point(t)[0] for t in t_vals], [l.point(t)[1] for t in t_vals], 'r-')\n",
    "plt.plot([p[0] for p in l.ctrl_points], [p[1] for p in l.ctrl_points], 'r--o')\n",
    "\n",
    "plt.plot([r.point(t)[0] for t in t_vals], [r.point(t)[1] for t in t_vals], 'g-')\n",
    "plt.plot([p[0] for p in r.ctrl_points], [p[1] for p in r.ctrl_points], 'g--o')\n",
    "plt.show()"
   ]
  },
  {
   "cell_type": "markdown",
   "metadata": {},
   "source": [
    "# Regression Fit Code"
   ]
  },
  {
   "cell_type": "code",
   "execution_count": 104,
   "metadata": {
    "collapsed": true
   },
   "outputs": [],
   "source": [
    "def fit_bezier(pnts, deg):\n",
    "    if int(deg) < 1:\n",
    "        raise ValueError('Bezier degree must be greater than 1')\n",
    "    else:\n",
    "        deg = int(deg)\n",
    "\n",
    "    pnts = np.array(pnts)\n",
    "\n",
    "    def solve_for_cs(ds, ts, deg):\n",
    "        \"\"\"Takes an input series of values (ds) and uses them to solve Ax = b\n",
    "        ds = values\n",
    "        ts = time steps between ds\n",
    "\n",
    "        \"\"\"\n",
    "\n",
    "        # Create A\n",
    "        # am, bm = [1, 4, 6, 4, 1] (binomial array for deg 4)\n",
    "        am = np.array([[scipy.special.binom(deg, i) for i in range(deg + 1)]])\n",
    "        bm = np.array([[scipy.special.binom(deg, i) for i in range(deg + 1)]]).T\n",
    "\n",
    "        # cm = matrix of 1's and -1's (based on index, e.g. for even deg: 0,0 = 1; 0,1 = -1;, 0,2 = 1, etc)\n",
    "        cm = (1 - 2*np.mod(np.sum(np.indices((deg+1, deg+1)), axis=0),\n",
    "            2*np.ones((deg+1, deg+1))))\n",
    "\n",
    "        # Fix for odd deg (the array needs to be flipped... -1, 1 instead of 1, -1)\n",
    "        if deg % 2:\n",
    "            cm *= -1\n",
    "\n",
    "        # A is square binomial matrix scaled by matrix of 1's and -1s (scalar of two from differentiation)\n",
    "        A = 2*am*bm*cm\n",
    "\n",
    "        # Create B\n",
    "        # B is matrix of exponents for (t-1) [[8, 7, 6, 5, 4], [7, 6, 5, 4, 3], ...[4, 3, 2, 1, 0]]\n",
    "        B = np.zeros((deg+1, deg+1))\n",
    "        B[-1] = np.arange(deg, -1, -1)\n",
    "\n",
    "        for i in range(deg - 1, -1, -1):\n",
    "            B[i] = B[i+1] + 1\n",
    "\n",
    "        # Create C\n",
    "        # C is matrix of exponents for t [[0, 1, 2, 3, 4], [1, 2, 3, 4, 5], ...[4, 5, 6, 7, 8]]\n",
    "        C = np.zeros((deg+1, deg+1))\n",
    "        C[0] = np.arange(deg + 1)\n",
    "\n",
    "        for i in range(deg):\n",
    "            C[i+1] = C[i] + 1\n",
    "\n",
    "        # Create D\n",
    "        # am is 1 row matrix of binomial coefficients\n",
    "        am = np.array([scipy.special.binom(deg, i) for i in range(deg + 1)])\n",
    "\n",
    "        # bm is matrix of 1's and -1's (based on index)\n",
    "        bm = (-1 + 2*np.mod(np.sum(np.indices((1, deg+1)), axis=0).flatten(), 2 * np.ones((deg+1))))\n",
    "\n",
    "        # D is binomial coefficients scaled by matrix of 1's and -1's (scalar of two from differentiation)\n",
    "        D = 2*am*bm\n",
    "\n",
    "        # Create E\n",
    "        E = np.arange(deg, -1, -1)\n",
    "\n",
    "        # Create F\n",
    "        F = np.arange(deg + 1)\n",
    "\n",
    "        # Function to create A matrix in Ax=b (using each input from above (A, B, C))\n",
    "        def A_fn(ts, Ai, Bi, Ci):\n",
    "            return sum([Ai * (t - 1) ** Bi * t ** Ci for t in ts])\n",
    "\n",
    "        def b_fn(ts, ds, Di, Ei, Fi):\n",
    "            return -1.0 * sum([Di * (t - 1) ** Ei * d * t ** Fi for t, d in zip(ts, ds)])\n",
    "\n",
    "        # Matrix A\n",
    "        A = np.array([A_fn(ts, Ai, Bi, Ci) for Ai, Bi, Ci in\n",
    "            zip(A.flatten(), B.flatten(), C.flatten())]).reshape((deg+1, deg+1))\n",
    "\n",
    "        # Vector b\n",
    "        b = np.array([b_fn(ts, ds, Di, Ei, Fi) for Di, Ei, Fi in\n",
    "            zip(D.flatten(), E.flatten(), F.flatten())]).reshape((deg+1, 1))\n",
    "\n",
    "        # Solve Ax = b\n",
    "        return scipy.linalg.solve(A, b).ravel()\n",
    "\n",
    "    # Set up time steps (normalized multi-dimension cummulative distances)\n",
    "    dists = np.cumsum([np.linalg.norm(p) for p in np.diff(pnts, axis=0)])\n",
    "    ts = [0] + [dist / max(dists) for dist in dists]\n",
    "\n",
    "    # Fit spline through each direction independently\n",
    "    ctrl_points = np.apply_along_axis(solve_for_cs, 0, pnts, ts, deg)\n",
    "\n",
    "    return Bezier(ctrl_points)"
   ]
  },
  {
   "cell_type": "markdown",
   "metadata": {},
   "source": [
    "# Regression Fit Results"
   ]
  },
  {
   "cell_type": "code",
   "execution_count": 105,
   "metadata": {
    "collapsed": false,
    "scrolled": false
   },
   "outputs": [
    {
     "data": {
      "image/png": "[encoded data removed]",
      "text/plain": [
       "<matplotlib.figure.Figure at 0x2faacaba8>"
      ]
     },
     "metadata": {},
     "output_type": "display_data"
    },
    {
     "data": {
      "image/png": "[encoded data removed]",
      "text/plain": [
       "<matplotlib.figure.Figure at 0x2f2e35d30>"
      ]
     },
     "metadata": {},
     "output_type": "display_data"
    }
   ],
   "source": [
    "noise_pnts = np.array([b.point(t) for t in ts]) + 0.000001*np.random.rand(len(ts), 2)\n",
    "b0 = fit_bezier(noise_pnts, b.deg)\n",
    "\n",
    "plt.plot([b.point(t)[0] for t in ts], [b.point(t)[1] for t in ts], 'b-')\n",
    "plt.plot([c[0] for c in b.ctrl_points], [c[1] for c in b.ctrl_points], 'b--o')\n",
    "\n",
    "plt.plot([b0.point(t)[0] for t in ts], [b0.point(t)[1] for t in ts], 'g-')\n",
    "plt.plot([c[0] for c in b0.ctrl_points], [c[1] for c in b0.ctrl_points], 'g--o')\n",
    "plt.plot([p[0] for p in noise_pnts], [p[1] for p in noise_pnts], 'r.')\n",
    "plt.show()\n",
    "\n",
    "noise_pnts = np.array([b.point(t) for t in ts]) + 0.1*np.random.rand(len(ts), 2)\n",
    "b1 = fit_bezier(noise_pnts, b.deg)\n",
    "\n",
    "plt.plot([b.point(t)[0] for t in ts], [b.point(t)[1] for t in ts], 'b-')\n",
    "plt.plot([c[0] for c in b.ctrl_points], [c[1] for c in b.ctrl_points], 'b--o')\n",
    "\n",
    "plt.plot([b1.point(t)[0] for t in ts], [b1.point(t)[1] for t in ts], 'g-')\n",
    "plt.plot([c[0] for c in b1.ctrl_points], [c[1] for c in b1.ctrl_points], 'g--o')\n",
    "plt.plot([p[0] for p in noise_pnts], [p[1] for p in noise_pnts], 'r.')\n",
    "plt.show()"
   ]
  }
 ],
 "metadata": {
  "celltoolbar": "Raw Cell Format",
  "kernelspec": {
   "display_name": "Python 3",
   "language": "python",
   "name": "python3"
  },
  "language_info": {
   "codemirror_mode": {
    "name": "ipython",
    "version": 3
   },
   "file_extension": ".py",
   "mimetype": "text/x-python",
   "name": "python",
   "nbconvert_exporter": "python",
   "pygments_lexer": "ipython3",
   "version": "3.5.1"
  }
 },
 "nbformat": 4,
 "nbformat_minor": 0
}
