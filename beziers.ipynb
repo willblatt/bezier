{
 "cells": [
  {
   "cell_type": "markdown",
   "metadata": {},
   "source": [
    "# Code"
   ]
  },
  {
   "cell_type": "code",
   "execution_count": 62,
   "metadata": {
    "collapsed": true
   },
   "outputs": [],
   "source": [
    "%matplotlib inline"
   ]
  },
  {
   "cell_type": "code",
   "execution_count": 63,
   "metadata": {
    "collapsed": true
   },
   "outputs": [],
   "source": [
    "import os\n",
    "\n",
    "import numpy as np\n",
    "import scipy\n",
    "import scipy.special\n",
    "import scipy.optimize\n",
    "import matplotlib\n",
    "import matplotlib.pyplot as plt\n",
    "\n",
    "\n",
    "class CtrlPoint(list):\n",
    "    def __init__(self, coords, w=1):\n",
    "        super().__init__([float(c) for c in coords])\n",
    "        self.w = float(w)\n",
    "\n",
    "    def __setitem__(self, idx, c):\n",
    "        super().__setitem__(idx, float(c))\n",
    "\n",
    "class Bezier(list):\n",
    "\n",
    "    def __init__(self, pts):\n",
    "        if len(pts) < 1:\n",
    "            raise ValueError('There must be at least two control points')\n",
    "\n",
    "        if not all(len(p)==len(pts[0]) for p in pts):\n",
    "            raise ValueError('All control points must have the same dimension')\n",
    "\n",
    "        super().__init__([CtrlPoint(p, w=getattr(p, 'w', 1.0)) for p in pts])\n",
    "\n",
    "    def __setitem__(self, idx, p):\n",
    "        if len(p) != self.dim:\n",
    "            raise ValueError(\n",
    "                'Control point must have the same dimension as Bezier ({0})'.format(self.dim))\n",
    "        else:\n",
    "            super().__setitem__(idx, CtrlPoint(p, w=getattr(p, 'w', 1.0)))\n",
    "\n",
    "    @property\n",
    "    def dim(self):\n",
    "        return len(self[0])\n",
    "\n",
    "    @property\n",
    "    def deg(self):\n",
    "        return len(self) - 1\n",
    "\n",
    "    @property\n",
    "    def hodograph(self):\n",
    "        \"\"\"Calculates hodograph Bezier curve\n",
    "\n",
    "        References\n",
    "        ----------\n",
    "        .. [1] Thomas W. Sederberg, \"COMPUTER AIDED GEOMETRIC DESIGN\"\n",
    "           BYU, p. 31, 2014.\n",
    "\n",
    "        \"\"\"\n",
    "\n",
    "        cpts = [np.array(self[i+1]) - np.array(self[i]) for i in range(self.deg)]\n",
    "\n",
    "        return Bezier(cpts)\n",
    "\n",
    "    def point(self, t):\n",
    "        \"\"\"Evaluate Bezier curve at a given t value\"\"\"\n",
    "\n",
    "        p = np.zeros_like(self[0])\n",
    "        d = 0.0\n",
    "        for i, cp in enumerate(self):\n",
    "            b = scipy.special.binom(self.deg, i) * (1-t)**(self.deg-i) * t**(i)\n",
    "            p += cp.w*b*np.array(cp)\n",
    "            d += cp.w*b\n",
    "        p /= d\n",
    "\n",
    "        return p.tolist()\n",
    "\n",
    "    def deg_elevate(self, deg_incr):\n",
    "        \"\"\"Evaluate a degree elvated Bezier curve\n",
    "\n",
    "        Parameters\n",
    "        ----------\n",
    "        deg_incr : int > 0\n",
    "            Number of degrees to elevate\n",
    "\n",
    "        Notes\n",
    "        -----\n",
    "        .. math:: P$^*_i$ = \\alpha P_{i-1} + (1 - \\alpha) P_i\n",
    "\n",
    "        where α is defined as:\n",
    "\n",
    "        .. math:: \\alpha_i = \\frac{i}{n+1}\n",
    "\n",
    "        References\n",
    "        ----------\n",
    "        .. [1] Thomas W. Sederberg, \"COMPUTER AIDED GEOMETRIC DESIGN\"\n",
    "           BYU, p. 23, 2014.\n",
    "\n",
    "        \"\"\"\n",
    "        \n",
    "        if deg_incr <= 0:\n",
    "            raise ValueError('degree elevation increment must be a positive number')\n",
    "\n",
    "        cp = self\n",
    "        for i in range(int(deg_incr)):\n",
    "            p0 = np.insert(np.array(cp), 0, [cp[0]], axis=0)\n",
    "            p1 = np.append(np.array(cp), [cp[0]], axis=0)\n",
    "            a = np.arange(len(cp)+1) / (self.deg + i+1)\n",
    "            cp = (p0*a[:,None] + p1*(1-a)[:,None]).tolist()\n",
    "\n",
    "        return Bezier(cp)\n",
    "\n",
    "    def nearest_point(self, point, t_guess=0.5, tol=0.000001):\n",
    "        \"\"\"Estimate nearest pont on bezier using fmin func\n",
    "\n",
    "        Parameters\n",
    "        ----------\n",
    "        point : list\n",
    "            point coordinates to evaluate\n",
    "        t_guess : float, optional\n",
    "            inital t guess\n",
    "        tol : float, optional\n",
    "            stopping tolerance\n",
    "        \"\"\"\n",
    "\n",
    "        def error_fn(t_trial, p):\n",
    "            return scipy.linalg.norm(p - self.point(t_trial[0]))\n",
    "\n",
    "        npoint = np.array(point)\n",
    "        t = scipy.optimize.minimize(error_fn, t_guess, args=(npoint,), tol=tol)\n",
    "        return t['x'][0]\n",
    "\n",
    "    def de_casteljau(self, t):\n",
    "        \"\"\"Performs the de Casteljau algorithm to split the current Bezier\n",
    "        at a given t value.\n",
    "\n",
    "        Notes\n",
    "        -----\n",
    "        Use the De Casteljau's method to split the Bezier at a given t value\n",
    "        and then, using the end points, calculate:\n",
    "\n",
    "        .. math:: \\kappa = \\frac{n-1}{n}\\frac{h}{a^2}\n",
    "\n",
    "        where a is the length of the first leg of the control polygon,\n",
    "        and h is the projected distance of the 3rd point to the first leg\n",
    "\n",
    "        References\n",
    "        ----------\n",
    "        .. [1] Thomas W. Sederberg, \"COMPUTER AIDED GEOMETRIC DESIGN\"\n",
    "           BYU, p. 31, 2014.\n",
    "\n",
    "        \"\"\"\n",
    "\n",
    "        # Create containers for output beziers\n",
    "        l_ctrl_points, r_ctrl_points = [], []\n",
    "\n",
    "        # Use the original control points as starting points\n",
    "        for i in range(self.deg+1):\n",
    "            l_ctrl_points.append(np.array(self[i]))\n",
    "            r_ctrl_points.append(np.array(self[i]))\n",
    "\n",
    "        l_ctrl_points.reverse()\n",
    "\n",
    "        # Walk through and perform de Casteljau's algorithm\n",
    "        for i in range(self.deg):\n",
    "            for j in range(self.deg-i):\n",
    "                r_ctrl_points[j] = t*r_ctrl_points[j+1] + (1-t)*r_ctrl_points[j]\n",
    "                l_ctrl_points[j] = t*l_ctrl_points[j]   + (1-t)*l_ctrl_points[j+1]\n",
    "\n",
    "        l_ctrl_points.reverse()\n",
    "\n",
    "        return Bezier(l_ctrl_points), Bezier(r_ctrl_points)\n",
    "\n",
    "    def curvature(self, t):\n",
    "        \"\"\"Calculates Curvature at value t\n",
    "\n",
    "        Notes\n",
    "        -----\n",
    "        Use the De Casteljau's method to split the Bezier at a given t value\n",
    "        and then, using the end points, calculate:\n",
    "\n",
    "        .. math:: \\kappa = \\frac{n-1}{n}\\frac{h}{a^2}\n",
    "\n",
    "        where a is the length of the first leg of the control polygon,\n",
    "        and h is the projected distance of the 3rd point to the first leg\n",
    "\n",
    "        References\n",
    "        ----------\n",
    "        .. [1] Thomas W. Sederberg, \"COMPUTER AIDED GEOMETRIC DESIGN\"\n",
    "           BYU, p. 31, 2014.\n",
    "\n",
    "        \"\"\"\n",
    "\n",
    "        def _h(t, bez):\n",
    "            # Use right bezier, unless t=1.0\n",
    "            p0 = np.array(bez[0])\n",
    "            p1 = np.array(bez[1])\n",
    "            p2 = np.array(bez[2])\n",
    "            q = p0-p1\n",
    "            r = p1-p2\n",
    "            return scipy.linalg.norm(np.cross(q, r)) / scipy.linalg.norm(q)\n",
    "\n",
    "        left, right = self.de_casteljau(t)\n",
    "\n",
    "        if t < 1.0:\n",
    "            h = _h(t, right)\n",
    "            a = scipy.linalg.norm(np.array(right[0]) - np.array(right[1]))\n",
    "        else:\n",
    "            h = _h(t, left, right)\n",
    "            a = scipy.linalg.norm(np.array(left[-1]) - np.array(left[-2]))\n",
    "\n",
    "        n = float(self.deg)\n",
    "\n",
    "        return ((n-1.0)/n) * h/(a**2.0)"
   ]
  },
  {
   "cell_type": "markdown",
   "metadata": {},
   "source": [
    "# Test Bezier"
   ]
  },
  {
   "cell_type": "code",
   "execution_count": 64,
   "metadata": {
    "collapsed": false
   },
   "outputs": [],
   "source": [
    "b = Bezier([(-1,1), (3,3), (4,-1), (2,-1)])\n",
    "t_vals = scipy.linspace(0.0, 1, 100)"
   ]
  },
  {
   "cell_type": "markdown",
   "metadata": {},
   "source": [
    "# Degree Elevation"
   ]
  },
  {
   "cell_type": "code",
   "execution_count": 65,
   "metadata": {
    "collapsed": false
   },
   "outputs": [
    {
     "data": {
      "image/png": "[encoded data removed]",
      "text/plain": [
       "<matplotlib.figure.Figure at 0x16200f1c390>"
      ]
     },
     "metadata": {},
     "output_type": "display_data"
    }
   ],
   "source": [
    "b1 = b.deg_elevate(1)\n",
    "b2 = b.deg_elevate(2)\n",
    "\n",
    "plt.plot([b.point(t)[0] for t in t_vals],\n",
    "         [b.point(t)[1] for t in t_vals], 'b-')\n",
    "plt.plot([c[0] for c in b],\n",
    "         [c[1] for c in b], 'b--o')\n",
    "\n",
    "plt.plot([b1.point(t)[0] for t in t_vals],\n",
    "         [b1.point(t)[1] for t in t_vals], 'g-')\n",
    "plt.plot([c[0] for c in b1],\n",
    "         [c[1] for c in b1], 'g--o')\n",
    "\n",
    "plt.plot([b2.point(t)[0] for t in t_vals],\n",
    "         [b2.point(t)[1] for t in t_vals], 'r-')\n",
    "plt.plot([c[0] for c in b2],\n",
    "         [c[1] for c in b2], 'r--o')\n",
    "plt.show()"
   ]
  },
  {
   "cell_type": "markdown",
   "metadata": {},
   "source": [
    "# Nearest Point"
   ]
  },
  {
   "cell_type": "code",
   "execution_count": 66,
   "metadata": {
    "collapsed": false
   },
   "outputs": [
    {
     "data": {
      "image/png": "[encoded data removed]",
      "text/plain": [
       "<matplotlib.figure.Figure at 0x16200fbb320>"
      ]
     },
     "metadata": {},
     "output_type": "display_data"
    }
   ],
   "source": [
    "p = (4, 2.5)\n",
    "tn = b.nearest_point(p)\n",
    "\n",
    "plt.plot([b.point(t)[0] for t in t_vals],\n",
    "         [b.point(t)[1] for t in t_vals], 'b-')\n",
    "plt.plot([c[0] for c in b],\n",
    "         [c[1] for c in b], 'b--.')\n",
    "plt.plot([b.point(tn)[0], p[0]],\n",
    "         [b.point(tn)[1], p[1]], 'r--o')\n",
    "plt.axes().set_aspect('equal', 'datalim')\n",
    "plt.show()"
   ]
  },
  {
   "cell_type": "markdown",
   "metadata": {},
   "source": [
    "# de Casteljau"
   ]
  },
  {
   "cell_type": "code",
   "execution_count": 67,
   "metadata": {
    "collapsed": false,
    "scrolled": false
   },
   "outputs": [
    {
     "data": {
      "image/png": "[encoded data removed]",
      "text/plain": [
       "<matplotlib.figure.Figure at 0x16200f1cdd8>"
      ]
     },
     "metadata": {},
     "output_type": "display_data"
    },
    {
     "data": {
      "image/png": "[encoded data removed]",
      "text/plain": [
       "<matplotlib.figure.Figure at 0x1620102de10>"
      ]
     },
     "metadata": {},
     "output_type": "display_data"
    }
   ],
   "source": [
    "t_vals = scipy.linspace(0.0, 1, 100)\n",
    "\n",
    "plt.plot([b.point(t)[0] for t in t_vals], [b.point(t)[1] for t in t_vals], 'b-')\n",
    "plt.plot([p[0] for p in b], [p[1] for p in b], 'b--o')\n",
    "plt.show()\n",
    "\n",
    "l, r = b.de_casteljau(t=0.5)\n",
    "plt.plot([l.point(t)[0] for t in t_vals], [l.point(t)[1] for t in t_vals], 'r-')\n",
    "plt.plot([p[0] for p in l], [p[1] for p in l], 'r--o')\n",
    "\n",
    "plt.plot([r.point(t)[0] for t in t_vals], [r.point(t)[1] for t in t_vals], 'g-')\n",
    "plt.plot([p[0] for p in r], [p[1] for p in r], 'g--o')\n",
    "plt.show()"
   ]
  },
  {
   "cell_type": "markdown",
   "metadata": {},
   "source": [
    "# Regression Fit Code"
   ]
  },
  {
   "cell_type": "code",
   "execution_count": 68,
   "metadata": {
    "collapsed": false
   },
   "outputs": [],
   "source": [
    "def fit_bezier(pnts, deg):\n",
    "    if int(deg) < 1:\n",
    "        raise ValueError('Bezier degree must be greater than 1')\n",
    "    else:\n",
    "        deg = int(deg)\n",
    "\n",
    "    pnts = np.array(pnts)\n",
    "\n",
    "    def solve_for_cs(ds, ts, deg):\n",
    "        \"\"\"Takes an input series of values (ds) and uses them to solve Ax = b\n",
    "        ds = values\n",
    "        ts = time steps between ds\n",
    "\n",
    "        \"\"\"\n",
    "\n",
    "        # Create A\n",
    "        # am, bm = [1, 4, 6, 4, 1] (binomial array for deg 4)\n",
    "        am = np.array([[scipy.special.binom(deg, i) for i in range(deg + 1)]])\n",
    "        bm = np.array([[scipy.special.binom(deg, i) for i in range(deg + 1)]]).T\n",
    "\n",
    "        # cm = matrix of 1's and -1's (based on index, e.g. for even deg: 0,0 = 1; 0,1 = -1;, 0,2 = 1, etc)\n",
    "        cm = (1 - 2*np.mod(np.sum(np.indices((deg+1, deg+1)), axis=0),\n",
    "            2*np.ones((deg+1, deg+1))))\n",
    "\n",
    "        # Fix for odd deg (the array needs to be flipped... -1, 1 instead of 1, -1)\n",
    "        if deg % 2:\n",
    "             cm *= -1\n",
    "\n",
    "        # A is square binomial matrix scaled by matrix of 1's and -1s (scalar of two from differentiation)\n",
    "        A = 2*am*bm*cm\n",
    "\n",
    "        # Create B\n",
    "        # B is matrix of exponents for (t-1) [[8, 7, 6, 5, 4], [7, 6, 5, 4, 3], ...[4, 3, 2, 1, 0]]\n",
    "        B = np.zeros((deg+1, deg+1))\n",
    "        B[-1] = np.arange(deg, -1, -1)\n",
    "\n",
    "        for i in range(deg - 1, -1, -1):\n",
    "            B[i] = B[i+1] + 1\n",
    "\n",
    "        # Create C\n",
    "        # C is matrix of exponents for t [[0, 1, 2, 3, 4], [1, 2, 3, 4, 5], ...[4, 5, 6, 7, 8]]\n",
    "        C = np.zeros((deg+1, deg+1))\n",
    "        C[0] = np.arange(deg + 1)\n",
    "\n",
    "        for i in range(deg):\n",
    "            C[i+1] = C[i] + 1\n",
    "\n",
    "        # Create D\n",
    "        # am is 1 row matrix of binomial coefficients\n",
    "        am = np.array([scipy.special.binom(deg, i) for i in range(deg + 1)])\n",
    "\n",
    "        # bm is matrix of 1's and -1's (based on index)\n",
    "        bm = (-1 + 2*np.mod(np.sum(np.indices((1, deg+1)), axis=0).flatten(), 2 * np.ones((deg+1))))\n",
    "\n",
    "        # D is binomial coefficients scaled by matrix of 1's and -1's (scalar of two from differentiation)\n",
    "        D = 2*am*bm\n",
    "\n",
    "        # Create E\n",
    "        E = np.arange(deg, -1, -1)\n",
    "\n",
    "        # Create F\n",
    "        F = np.arange(deg + 1)\n",
    "\n",
    "        # Function to create A matrix in Ax=b (using each input from above (A, B, C))\n",
    "        def A_fn(ts, Ai, Bi, Ci):\n",
    "            return sum([Ai * (t - 1) ** Bi * t ** Ci for t in ts])\n",
    "\n",
    "        def b_fn(ts, ds, Di, Ei, Fi):\n",
    "            return -1.0 * sum([Di * (t - 1) ** Ei * d * t ** Fi for t, d in zip(ts, ds)])\n",
    "\n",
    "        # Matrix A\n",
    "        A = -1*np.array([A_fn(ts, Ai, Bi, Ci) for Ai, Bi, Ci in\n",
    "            zip(A.flatten(), B.flatten(), C.flatten())]).reshape((deg+1, deg+1))\n",
    "\n",
    "        # Vector b\n",
    "        b = -1*np.array([b_fn(ts, ds, Di, Ei, Fi) for Di, Ei, Fi in\n",
    "            zip(D.flatten(), E.flatten(), F.flatten())]).reshape((deg+1, 1))\n",
    "\n",
    "        # Solve Ax = b\n",
    "        return scipy.linalg.solve(A, b).ravel()\n",
    "    \n",
    "    ts = scipy.linspace(0.0, 1, len(pnts))\n",
    "\n",
    "    # Fit spline through each direction independently\n",
    "    ctrl_points = np.apply_along_axis(solve_for_cs, 0, pnts, ts, deg)\n",
    "\n",
    "    return Bezier(ctrl_points)    "
   ]
  },
  {
   "cell_type": "markdown",
   "metadata": {},
   "source": [
    "# Regression Fit Results"
   ]
  },
  {
   "cell_type": "code",
   "execution_count": 70,
   "metadata": {
    "collapsed": false,
    "scrolled": false
   },
   "outputs": [
    {
     "data": {
      "image/png": "[encoded data removed]",
      "text/plain": [
       "<matplotlib.figure.Figure at 0x162021fec18>"
      ]
     },
     "metadata": {},
     "output_type": "display_data"
    },
    {
     "name": "stdout",
     "output_type": "stream",
     "text": [
      "        orig x fitted x   orig y fitted y\n",
      "    0   -1.000   -1.000    1.000    1.000\n",
      "    1    3.000    3.000    3.000    3.000\n",
      "    2    4.000    4.000   -1.000   -1.000\n",
      "    3    2.000    2.000   -1.000   -1.000\n"
     ]
    },
    {
     "data": {
      "image/png": "[encoded data removed]",
      "text/plain": [
       "<matplotlib.figure.Figure at 0x16200e974e0>"
      ]
     },
     "metadata": {},
     "output_type": "display_data"
    },
    {
     "name": "stdout",
     "output_type": "stream",
     "text": [
      "        orig x fitted x   orig y fitted y\n",
      "    0   -1.000   -0.996    1.000    1.129\n",
      "    1    3.000    2.801    3.000    2.976\n",
      "    2    4.000    4.027   -1.000   -1.027\n",
      "    3    2.000    1.960   -1.000   -0.772\n"
     ]
    }
   ],
   "source": [
    "noise_pnts = np.array([b.point(t) for t in t_vals]) + 0.001*(np.random.rand(len(t_vals), 2)-0.5)\n",
    "\n",
    "b0 = fit_bezier(noise_pnts, b.deg)\n",
    "\n",
    "plt.plot([b.point(t)[0] for t in t_vals], [b.point(t)[1] for t in t_vals], 'b-')\n",
    "plt.plot([c[0] for c in b], [c[1] for c in b], 'b--o')\n",
    "\n",
    "plt.plot([b0.point(t)[0] for t in t_vals], [b0.point(t)[1] for t in t_vals], 'g-')\n",
    "plt.plot([c[0] for c in b0], [c[1] for c in b0], 'g--o')\n",
    "plt.plot([p[0] for p in noise_pnts], [p[1] for p in noise_pnts], 'r.')\n",
    "plt.show()\n",
    "\n",
    "print(\"{0:>5} {1:>8} {2:>8} {3:>8} {4:>8}\".format(' ', 'orig x', 'fitted x', 'orig y', 'fitted y'))\n",
    "for i, (cp, cp0) in enumerate(zip(b, b0)):\n",
    "    print(\"{0:>5} {1:>8.3f} {2:>8.3f} {3:>8.3f} {4:>8.3f}\".format(str(i), cp[0], cp0[0], cp[1], cp0[1]))\n",
    "\n",
    "noise_pnts = np.array([b.point(t) for t in t_vals]) + 1.0*(np.random.rand(len(t_vals), 2)-0.5)\n",
    "\n",
    "b1 = fit_bezier(noise_pnts, b.deg)\n",
    "\n",
    "plt.plot([b.point(t)[0] for t in t_vals], [b.point(t)[1] for t in t_vals], 'b-')\n",
    "plt.plot([c[0] for c in b], [c[1] for c in b], 'b--o')\n",
    "\n",
    "plt.plot([b1.point(t)[0] for t in t_vals], [b1.point(t)[1] for t in t_vals], 'g-')\n",
    "plt.plot([c[0] for c in b1], [c[1] for c in b1], 'g--o')\n",
    "plt.plot([p[0] for p in noise_pnts], [p[1] for p in noise_pnts], 'r.')\n",
    "plt.show()\n",
    "\n",
    "print(\"{0:>5} {1:>8} {2:>8} {3:>8} {4:>8}\".format(' ', 'orig x', 'fitted x', 'orig y', 'fitted y'))\n",
    "for i, (cp, cp1) in enumerate(zip(b, b1)):\n",
    "    print(\"{0:>5} {1:>8.3f} {2:>8.3f} {3:>8.3f} {4:>8.3f}\".format(str(i), cp[0], cp1[0], cp[1], cp1[1]))"
   ]
  }
 ],
 "metadata": {
  "celltoolbar": "Raw Cell Format",
  "kernelspec": {
   "display_name": "Python 3",
   "language": "python",
   "name": "python3"
  },
  "language_info": {
   "codemirror_mode": {
    "name": "ipython",
    "version": 3
   },
   "file_extension": ".py",
   "mimetype": "text/x-python",
   "name": "python",
   "nbconvert_exporter": "python",
   "pygments_lexer": "ipython3",
   "version": "3.5.2"
  }
 },
 "nbformat": 4,
 "nbformat_minor": 0
}
